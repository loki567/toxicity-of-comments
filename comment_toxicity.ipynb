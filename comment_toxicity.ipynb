{
 "cells": [
  {
   "cell_type": "code",
   "execution_count": null,
   "id": "3aaa16d7-02f8-4bd8-a829-46c9099f664a",
   "metadata": {
    "tags": []
   },
   "outputs": [],
   "source": [
    "import tensorflow as tf\n",
    "import pandas as pd\n",
    "import numpy as np\n",
    "import os\n",
    "from tensorflow.keras.layers import TextVectorization"
   ]
  },
  {
   "cell_type": "code",
   "execution_count": null,
   "id": "4ec9c824-cf99-4b5f-a94f-2bed14cfbaca",
   "metadata": {},
   "outputs": [],
   "source": [
    "df = pd.read_csv(os.path.join('jigsaw-toxic-comment-classification-challenge','train.csv','train.csv'))"
   ]
  },
  {
   "cell_type": "code",
   "execution_count": null,
   "id": "b7a97e83-19ff-412d-984a-8cf891aa69e9",
   "metadata": {},
   "outputs": [],
   "source": [
    "df.head()"
   ]
  },
  {
   "cell_type": "code",
   "execution_count": null,
   "id": "6e70bbe0-bf70-43eb-8fe1-567ecd689b53",
   "metadata": {},
   "outputs": [],
   "source": [
    "df[df['toxic']==0].iloc[0]['comment_text']"
   ]
  },
  {
   "cell_type": "code",
   "execution_count": null,
   "id": "49eed3ef-227f-43c3-85ce-b8e5c94c9faa",
   "metadata": {},
   "outputs": [],
   "source": [
    "df[df.columns[2:]].iloc[6]"
   ]
  },
  {
   "cell_type": "code",
   "execution_count": null,
   "id": "112a0f0a-ceae-4cb3-9d91-a51afa5366da",
   "metadata": {},
   "outputs": [],
   "source": [
    "X = df['comment_text']\n",
    "y = df[df.columns[2:]].values"
   ]
  },
  {
   "cell_type": "code",
   "execution_count": null,
   "id": "6db1d16b-71a6-4f21-80fb-b0bda9124947",
   "metadata": {},
   "outputs": [],
   "source": [
    "total_features = 100_000"
   ]
  },
  {
   "cell_type": "code",
   "execution_count": null,
   "id": "442907a0-52e1-4f09-b208-5d60ba7f35c1",
   "metadata": {},
   "outputs": [],
   "source": [
    "vectorization = TextVectorization(max_tokens=total_features,\n",
    "                           output_sequence_length=1000,\n",
    "                           output_mode='int'\n",
    "                          )"
   ]
  },
  {
   "cell_type": "code",
   "execution_count": null,
   "id": "6cf5b45f-7520-4de8-81ee-9b3b7cbb6d80",
   "metadata": {},
   "outputs": [],
   "source": [
    "vectorization.adapt(X.values)"
   ]
  },
  {
   "cell_type": "code",
   "execution_count": null,
   "id": "07d9c82d-01fa-41ad-aab5-7baacf9bf9ee",
   "metadata": {},
   "outputs": [],
   "source": [
    "vector.get_vocabulary()"
   ]
  },
  {
   "cell_type": "code",
   "execution_count": null,
   "id": "10ecc9e0-0ede-4658-bcd6-92767f18cbb8",
   "metadata": {},
   "outputs": [],
   "source": [
    "txt_vector = vectorization(X.values)"
   ]
  },
  {
   "cell_type": "code",
   "execution_count": null,
   "id": "c99e1b31-bb25-419c-afab-028671bb3a52",
   "metadata": {},
   "outputs": [],
   "source": [
    "dataset = tf.data.Dataset.from_tensor_slices((txt_vector,y))\n",
    "dataset = dataset.cache()\n",
    "dataset = dataset.shuffle(160000)\n",
    "dataset = dataset.batch(16)\n",
    "dataset = dataset.prefetch(8)"
   ]
  },
  {
   "cell_type": "code",
   "execution_count": null,
   "id": "152e1821-a8ca-444d-94c1-ce4614554b4b",
   "metadata": {},
   "outputs": [],
   "source": [
    "train_size = int(len(dataset)*0.7)\n",
    "val_size = int(len(dataset)*0.2)\n",
    "test_size = len(dataset) - train_size - val_size\n",
    "print(train_size)\n",
    "print(val_size)\n",
    "print(test_size)\n",
    "if train_size+val_size+test_size == len(dataset):\n",
    "    print(\"Correct\")"
   ]
  },
  {
   "cell_type": "code",
   "execution_count": null,
   "id": "9248c2a9-1f09-4e9e-bc54-0c9f6a34beb6",
   "metadata": {},
   "outputs": [],
   "source": [
    "train = dataset.take(train_size)\n",
    "val = dataset.skip(train_size).take(val_size)\n",
    "test = dataset.skip((train_size+val_size)).take(test_size)"
   ]
  },
  {
   "cell_type": "code",
   "execution_count": null,
   "id": "3738dc03-ab35-44cd-a109-46380dccf927",
   "metadata": {},
   "outputs": [],
   "source": [
    "train_generator = train.as_numpy_iterator()"
   ]
  },
  {
   "cell_type": "code",
   "execution_count": null,
   "id": "53544e3c-e126-4494-af90-4bc4c43b7763",
   "metadata": {},
   "outputs": [],
   "source": [
    "train_next = train_generator.next()"
   ]
  },
  {
   "cell_type": "code",
   "execution_count": null,
   "id": "40646c9a-66ff-453d-afb5-95085376c6c4",
   "metadata": {},
   "outputs": [],
   "source": [
    "from tensorflow.keras.models import Sequential\n",
    "from tensorflow.keras.layers import LSTM, Bidirectional, Dense, Embedding"
   ]
  },
  {
   "cell_type": "code",
   "execution_count": null,
   "id": "ee56d9fa-d6d0-4f88-8a36-a39f8f083b1a",
   "metadata": {},
   "outputs": [],
   "source": [
    "model = Sequential()\n",
    "model.add(Embedding(total_features, 32))\n",
    "model.add(Bidirectional(LSTM(32, activation='tanh')))\n",
    "model.add(Dense(128, activation='relu'))\n",
    "model.add(Dense(256, activation='relu'))\n",
    "model.add(Dense(128, activation='relu'))\n",
    "model.add(Dense(6, activation='sigmoid'))"
   ]
  },
  {
   "cell_type": "code",
   "execution_count": null,
   "id": "dd96368d-7b96-44fb-a0f6-f3960b2513c6",
   "metadata": {},
   "outputs": [],
   "source": [
    "model.compile(loss='BinaryCrossentropy', optimizer='Adam')"
   ]
  },
  {
   "cell_type": "code",
   "execution_count": null,
   "id": "786b9a2b-968b-46b2-9a40-e60eb2789a39",
   "metadata": {},
   "outputs": [],
   "source": [
    "history = model.fit(train, epochs=1, validation_data=val)"
   ]
  },
  {
   "cell_type": "code",
   "execution_count": null,
   "id": "16ecb6e4-4990-4810-9865-c0534a1c5d80",
   "metadata": {},
   "outputs": [],
   "source": [
    "input_text = vectorization('I hate you.')"
   ]
  },
  {
   "cell_type": "code",
   "execution_count": null,
   "id": "15cd1dd9-e941-41b8-b730-3c0dbabaaa76",
   "metadata": {},
   "outputs": [],
   "source": [
    "res = model.predict(np.expand_dims(input_text,0))"
   ]
  },
  {
   "cell_type": "code",
   "execution_count": null,
   "id": "03446b42-0514-420d-b906-75bd21ff42af",
   "metadata": {},
   "outputs": [],
   "source": [
    "res[0]"
   ]
  },
  {
   "cell_type": "code",
   "execution_count": null,
   "id": "7ea06c97-3d1d-46b7-ae46-c837faf02b82",
   "metadata": {},
   "outputs": [],
   "source": [
    "batch_X, batch_y = test.as_numpy_iterator().next()"
   ]
  },
  {
   "cell_type": "code",
   "execution_count": null,
   "id": "f96d09da-c136-4acd-bb81-54aefb4d9639",
   "metadata": {},
   "outputs": [],
   "source": [
    "(model.predict(batch_X) > 0.5).astype(int)"
   ]
  },
  {
   "cell_type": "code",
   "execution_count": null,
   "id": "d28f07f9-54b2-468a-98dc-88ced2b0fc6e",
   "metadata": {},
   "outputs": [],
   "source": [
    "res"
   ]
  },
  {
   "cell_type": "code",
   "execution_count": null,
   "id": "7c0c2ac1-b5af-45dc-b9d1-29923179b0e5",
   "metadata": {},
   "outputs": [],
   "source": [
    "from tensorflow.keras.metrics import Precision, Recall, CategoricalAccuracy"
   ]
  },
  {
   "cell_type": "code",
   "execution_count": null,
   "id": "cd7a1496-0017-472b-ad19-a1661f143a18",
   "metadata": {},
   "outputs": [],
   "source": [
    "precision = Precision()\n",
    "recall = Recall()\n",
    "accuracy = CategoricalAccuracy()"
   ]
  },
  {
   "cell_type": "code",
   "execution_count": null,
   "id": "c524a478-db28-461a-a479-93726432df98",
   "metadata": {
    "scrolled": true,
    "tags": []
   },
   "outputs": [],
   "source": [
    "for batch in test.as_numpy_iterator(): \n",
    "    X_true, y_true = batch\n",
    "    yhat = model.predict(X_true)\n",
    "    \n",
    "    # Flattening the predictions\n",
    "    y_true = y_true.flatten()\n",
    "    yhat = yhat.flatten()\n",
    "    \n",
    "    precision.update_state(y_true, yhat)\n",
    "    recall.update_state(y_true, yhat)\n",
    "    accuracy.update_state(y_true, yhat)"
   ]
  },
  {
   "cell_type": "code",
   "execution_count": null,
   "id": "1d2592bf-b71f-4a59-ae89-858a7aeeed5b",
   "metadata": {},
   "outputs": [],
   "source": [
    "print(f'Precision: {precision.result().numpy()}, Recall:{recall.result().numpy()}, Accuracy:{accuracy.result().numpy()}')"
   ]
  },
  {
   "cell_type": "code",
   "execution_count": null,
   "id": "eb8fde1c-10f1-4486-a871-b890d84627b7",
   "metadata": {},
   "outputs": [],
   "source": [
    "# !pip install gradio"
   ]
  },
  {
   "cell_type": "code",
   "execution_count": null,
   "id": "e1e58cd4-7335-49c9-b437-425655426e15",
   "metadata": {
    "tags": []
   },
   "outputs": [],
   "source": [
    "import tensorflow as tf\n",
    "import gradio as gr"
   ]
  },
  {
   "cell_type": "code",
   "execution_count": null,
   "id": "3da6afe0-eb32-49e1-895b-a94681509047",
   "metadata": {},
   "outputs": [],
   "source": [
    "model.save('toxicity.h5')"
   ]
  },
  {
   "cell_type": "code",
   "execution_count": null,
   "id": "84530ae2-cb29-4e31-9dd4-0440556b5b5a",
   "metadata": {},
   "outputs": [],
   "source": [
    "model = tf.keras.models.load_model('toxicity.h5')"
   ]
  },
  {
   "cell_type": "code",
   "execution_count": null,
   "id": "0aab3803-9da4-4dc4-8abd-869c24ab2a4a",
   "metadata": {},
   "outputs": [],
   "source": [
    "input_str = vectorization('hey i freaken hate you!')"
   ]
  },
  {
   "cell_type": "code",
   "execution_count": null,
   "id": "098c213e-41d4-44c9-a85f-66778c9ab77b",
   "metadata": {},
   "outputs": [],
   "source": [
    "res = model.predict(np.expand_dims(input_str,0))"
   ]
  },
  {
   "cell_type": "code",
   "execution_count": null,
   "id": "4b3c99dc-f936-42f1-8984-a2861074242a",
   "metadata": {},
   "outputs": [],
   "source": [
    "res"
   ]
  },
  {
   "cell_type": "code",
   "execution_count": null,
   "id": "02fce7a6-37b1-449c-bdd0-e1ec16ef9edc",
   "metadata": {},
   "outputs": [],
   "source": [
    "def score_comment(comment):\n",
    "    vectorized_comment = vectorization([comment])\n",
    "    results = model.predict(vectorized_comment)\n",
    "    \n",
    "    text = ''\n",
    "    for idx, col in enumerate(df.columns[2:]):\n",
    "        text += '{}: {}\\n'.format(col, results[0][idx]>0.5)\n",
    "    \n",
    "    return text"
   ]
  },
  {
   "cell_type": "code",
   "execution_count": null,
   "id": "a3369698-1c87-417f-8eec-ac8d90c2e5d7",
   "metadata": {},
   "outputs": [],
   "source": [
    "interface = gr.Interface(fn=score_comment, \n",
    "                         inputs=gr.inputs.Textbox(lines=2, placeholder='Comment to score'),\n",
    "                        outputs='text')"
   ]
  },
  {
   "cell_type": "code",
   "execution_count": null,
   "id": "f78b3a1a-fe55-4134-9622-bf6aedfb36f9",
   "metadata": {},
   "outputs": [],
   "source": [
    "interface.launch(share=True)"
   ]
  },
  {
   "cell_type": "code",
   "execution_count": null,
   "id": "7de3e03a-b4bb-4e9a-8f96-8ae3678be9a3",
   "metadata": {},
   "outputs": [],
   "source": []
  }
 ],
 "metadata": {
  "kernelspec": {
   "display_name": "Python 3 (ipykernel)",
   "language": "python",
   "name": "python3"
  },
  "language_info": {
   "codemirror_mode": {
    "name": "ipython",
    "version": 3
   },
   "file_extension": ".py",
   "mimetype": "text/x-python",
   "name": "python",
   "nbconvert_exporter": "python",
   "pygments_lexer": "ipython3",
   "version": "3.9.13"
  }
 },
 "nbformat": 4,
 "nbformat_minor": 5
}
